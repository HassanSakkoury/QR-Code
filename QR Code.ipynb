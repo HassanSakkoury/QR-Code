{
 "cells": [
  {
   "cell_type": "code",
   "execution_count": 1,
   "metadata": {
    "ExecuteTime": {
     "end_time": "2022-08-20T20:21:44.962625Z",
     "start_time": "2022-08-20T20:21:44.785853Z"
    }
   },
   "outputs": [
    {
     "name": "stdout",
     "output_type": "stream",
     "text": [
      "QR code has been generated successfully!\n"
     ]
    }
   ],
   "source": [
    "import qrcode\n",
    "\n",
    "#initialize qr object\n",
    "qr = qrcode.QRCode(\n",
    "    version =1,\n",
    "    box_size =10,\n",
    "    border=6)\n",
    "\n",
    "data = \"\"\n",
    "\n",
    "#add data to qr code\n",
    "qr.add_data(data)\n",
    "qr.make(fit=True)\n",
    "\n",
    "#create an image of qr code\n",
    "image = qr.make_image(fill_color=\"black\", back_color= \"white\")\n",
    "\n",
    "#save it locally \n",
    "image.save(\"myqrcode.png\")\n",
    "print(\"QR code has been generated successfully!\")"
   ]
  },
  {
   "cell_type": "code",
   "execution_count": null,
   "metadata": {},
   "outputs": [],
   "source": []
  }
 ],
 "metadata": {
  "kernelspec": {
   "display_name": "Python 3",
   "language": "python",
   "name": "python3"
  },
  "language_info": {
   "codemirror_mode": {
    "name": "ipython",
    "version": 3
   },
   "file_extension": ".py",
   "mimetype": "text/x-python",
   "name": "python",
   "nbconvert_exporter": "python",
   "pygments_lexer": "ipython3",
   "version": "3.8.5"
  }
 },
 "nbformat": 4,
 "nbformat_minor": 4
}
